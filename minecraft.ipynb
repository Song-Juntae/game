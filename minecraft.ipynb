{
 "cells": [
  {
   "cell_type": "code",
   "execution_count": 56,
   "metadata": {},
   "outputs": [
    {
     "data": {
      "text/plain": [
       "[1000686894,\n",
       " 5295654190,\n",
       " 9590621486,\n",
       " 13885588782,\n",
       " 18180556078,\n",
       " 22475523374,\n",
       " 26770490670,\n",
       " 31065457966,\n",
       " 35360425262,\n",
       " 39655392558,\n",
       " 43950359854,\n",
       " 48245327150,\n",
       " 52540294446,\n",
       " 56835261742,\n",
       " 61130229038,\n",
       " 65425196334,\n",
       " 69720163630,\n",
       " 74015130926,\n",
       " 78310098222,\n",
       " 82605065518]"
      ]
     },
     "execution_count": 56,
     "metadata": {},
     "output_type": "execute_result"
    }
   ],
   "source": [
    "def get_infinite_mineshaft_seed(n):\n",
    "    return int(bin(n*4)+'111011101001010100010100101110',2)\n",
    "\n",
    "[get_infinite_mineshaft_seed(i) for i in range(20)]"
   ]
  },
  {
   "cell_type": "code",
   "execution_count": 60,
   "metadata": {},
   "outputs": [
    {
     "data": {
      "text/plain": [
       "[1669320484,\n",
       " 5964287780,\n",
       " 10259255076,\n",
       " 14554222372,\n",
       " 18849189668,\n",
       " 23144156964,\n",
       " 27439124260,\n",
       " 31734091556,\n",
       " 36029058852,\n",
       " 40324026148,\n",
       " 44618993444,\n",
       " 48913960740,\n",
       " 53208928036,\n",
       " 57503895332,\n",
       " 61798862628,\n",
       " 66093829924,\n",
       " 70388797220,\n",
       " 74683764516,\n",
       " 78978731812,\n",
       " 83273699108]"
      ]
     },
     "execution_count": 60,
     "metadata": {},
     "output_type": "execute_result"
    }
   ],
   "source": [
    "def repeat_world(n):\n",
    "    return int(bin(n*2)+'1100011011111111100111100100100',2)\n",
    "\n",
    "[repeat_world(i) for i in range(20)]"
   ]
  },
  {
   "cell_type": "code",
   "execution_count": null,
   "metadata": {},
   "outputs": [],
   "source": []
  }
 ],
 "metadata": {
  "kernelspec": {
   "display_name": "ml",
   "language": "python",
   "name": "python3"
  },
  "language_info": {
   "codemirror_mode": {
    "name": "ipython",
    "version": 3
   },
   "file_extension": ".py",
   "mimetype": "text/x-python",
   "name": "python",
   "nbconvert_exporter": "python",
   "pygments_lexer": "ipython3",
   "version": "3.11.4"
  }
 },
 "nbformat": 4,
 "nbformat_minor": 2
}
